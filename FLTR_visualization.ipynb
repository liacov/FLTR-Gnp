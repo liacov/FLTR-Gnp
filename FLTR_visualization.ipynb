{
 "cells": [
  {
   "cell_type": "code",
   "execution_count": null,
   "metadata": {},
   "outputs": [],
   "source": [
    "import numpy as np\n",
    "import pandas as pd\n",
    "import time\n",
    "import datetime\n",
    "import matplotlib.pyplot as plt\n",
    "\n",
    "%matplotlib inline"
   ]
  },
  {
   "cell_type": "code",
   "execution_count": null,
   "metadata": {},
   "outputs": [],
   "source": [
    "def loader_data():\n",
    "        \n",
    "    # STATS\n",
    "    # reading from keys\n",
    "    with open(\"results/keys_stats.txt\", \"r\") as f:\n",
    "        keys = eval(f.read())\n",
    "\n",
    "    stats = {}\n",
    "    # reading dataframes\n",
    "    for key in keys:\n",
    "        stats[key] = pd.read_csv(\"results/stats_{}.csv\".format(str(key)))\n",
    "        \n",
    "    # DATA\n",
    "    # reading from keys\n",
    "    with open(\"results/keys_data.txt\", \"r\") as f:\n",
    "        keys = eval(f.read())\n",
    "\n",
    "    data = {}\n",
    "    # reading dataframes\n",
    "    for key in keys:\n",
    "        data[key] = [pd.read_csv(\"results/data_metrics.csv\"), pd.read_csv(\"results/data_levels.csv\")]\n",
    "\n",
    "    return stats, data"
   ]
  },
  {
   "cell_type": "code",
   "execution_count": null,
   "metadata": {},
   "outputs": [],
   "source": [
    "stats, data = loader_data()"
   ]
  },
  {
   "cell_type": "code",
   "execution_count": null,
   "metadata": {},
   "outputs": [],
   "source": [
    "data"
   ]
  },
  {
   "cell_type": "code",
   "execution_count": null,
   "metadata": {},
   "outputs": [],
   "source": [
    "stats"
   ]
  },
  {
   "cell_type": "code",
   "execution_count": null,
   "metadata": {},
   "outputs": [],
   "source": [
    "start_time = time.time()\n",
    "\n",
    "fig, axs = plt.subplots(5,2,figsize= (20,20))\n",
    "for i, k in enumerate(data.keys()):\n",
    "    _ = axs[i,0].set_title('Metrics with p = {}'.format(k))\n",
    "    _ = axs[i,0].boxplot(data[k][0])\n",
    "    \n",
    "    _ = axs[i,1].set_title('Levels with p = {}'.format(k))\n",
    "    _ = axs[i,1].boxplot(data[k][1])\n",
    "    \n",
    "end_time = time.time()\n",
    "uptime = end_time - start_time\n",
    "human_uptime = datetime.timedelta(seconds=uptime)\n",
    "print(\"Total uptime: \", human_uptime)"
   ]
  },
  {
   "cell_type": "code",
   "execution_count": null,
   "metadata": {},
   "outputs": [],
   "source": []
  }
 ],
 "metadata": {
  "kernelspec": {
   "display_name": "Python 3",
   "language": "python",
   "name": "python3"
  },
  "language_info": {
   "codemirror_mode": {
    "name": "ipython",
    "version": 3
   },
   "file_extension": ".py",
   "mimetype": "text/x-python",
   "name": "python",
   "nbconvert_exporter": "python",
   "pygments_lexer": "ipython3",
   "version": "3.7.4"
  }
 },
 "nbformat": 4,
 "nbformat_minor": 2
}
